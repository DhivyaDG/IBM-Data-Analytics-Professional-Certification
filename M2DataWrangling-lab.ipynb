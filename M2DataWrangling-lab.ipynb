{
 "cells": [
  {
   "cell_type": "markdown",
   "metadata": {},
   "source": [
    "<p style=\"text-align:center\">\n",
    "    <a href=\"https://skills.network/?utm_medium=Exinfluencer&utm_source=Exinfluencer&utm_content=000026UJ&utm_term=10006555&utm_id=NA-SkillsNetwork-Channel-SkillsNetworkCoursesIBMDA0321ENSkillsNetwork928-2022-01-01\" target=\"_blank\">\n",
    "    <img src=\"https://cf-courses-data.s3.us.cloud-object-storage.appdomain.cloud/assets/logos/SN_web_lightmode.png\" width=\"200\" alt=\"Skills Network Logo\"  />\n",
    "    </a>\n",
    "</p>\n"
   ]
  },
  {
   "cell_type": "markdown",
   "metadata": {},
   "source": [
    "# **Data Wrangling Lab**\n"
   ]
  },
  {
   "cell_type": "markdown",
   "metadata": {},
   "source": [
    "Estimated time needed: **45 to 60** minutes\n"
   ]
  },
  {
   "cell_type": "markdown",
   "metadata": {},
   "source": [
    "In this assignment you will be performing data wrangling.\n"
   ]
  },
  {
   "cell_type": "markdown",
   "metadata": {},
   "source": [
    "## Objectives\n"
   ]
  },
  {
   "cell_type": "markdown",
   "metadata": {},
   "source": [
    "In this lab you will perform the following:\n"
   ]
  },
  {
   "cell_type": "markdown",
   "metadata": {},
   "source": [
    "-   Identify duplicate values in the dataset.\n",
    "\n",
    "-   Remove duplicate values from the dataset.\n",
    "\n",
    "-   Identify missing values in the dataset.\n",
    "\n",
    "-   Impute the missing values in the dataset.\n",
    "\n",
    "-   Normalize data in the dataset.\n"
   ]
  },
  {
   "cell_type": "markdown",
   "metadata": {},
   "source": [
    "<hr>\n"
   ]
  },
  {
   "cell_type": "markdown",
   "metadata": {},
   "source": [
    "## Hands on Lab\n"
   ]
  },
  {
   "cell_type": "markdown",
   "metadata": {},
   "source": [
    "Import pandas module.\n"
   ]
  },
  {
   "cell_type": "code",
   "execution_count": 1,
   "metadata": {},
   "outputs": [],
   "source": [
    "import pandas as pd\n",
    "import numpy as np"
   ]
  },
  {
   "cell_type": "markdown",
   "metadata": {},
   "source": [
    "Load the dataset into a dataframe.\n"
   ]
  },
  {
   "cell_type": "code",
   "execution_count": 6,
   "metadata": {},
   "outputs": [
    {
     "data": {
      "text/plain": [
       "BlockchainIs           8915\n",
       "CodeRevHrs             9083\n",
       "BlockchainOrg          9198\n",
       "MiscTechWorkedWith     9343\n",
       "SONewContent           9557\n",
       "                      ...  \n",
       "Employment            11552\n",
       "OpenSourcer           11552\n",
       "Hobbyist              11552\n",
       "MainBranch            11552\n",
       "Respondent            11552\n",
       "Length: 85, dtype: int64"
      ]
     },
     "execution_count": 6,
     "metadata": {},
     "output_type": "execute_result"
    }
   ],
   "source": [
    "df = pd.read_csv(\"https://cf-courses-data.s3.us.cloud-object-storage.appdomain.cloud/IBM-DA0321EN-SkillsNetwork/LargeData/m1_survey_data.csv\")\n",
    "df.notnull().sum().sort_values()"
   ]
  },
  {
   "cell_type": "markdown",
   "metadata": {},
   "source": [
    "## Finding duplicates\n"
   ]
  },
  {
   "cell_type": "markdown",
   "metadata": {},
   "source": [
    "In this section you will identify duplicate values in the dataset.\n"
   ]
  },
  {
   "cell_type": "markdown",
   "metadata": {},
   "source": [
    " Find how many duplicate rows exist in the dataframe.\n"
   ]
  },
  {
   "cell_type": "code",
   "execution_count": 7,
   "metadata": {},
   "outputs": [],
   "source": [
    "#Example\n",
    "#combined = df\n",
    "#dups = combined.duplicated(['COUNTRY', 'YEAR'])\n",
    "#combined_dups = combined[dups]\n",
    "#somaliland_combined = combined[combined['COUNTRY'] == 'SOMALILAND REGION']\n",
    "#print(combined.notnull().sum().sort_values())\n",
    "#the thresh parameter to only drop columns if they contain below a certain number of non-null values.\n",
    "#combined = combined.dropna(thresh=159, axis=1)\n",
    "#missing = combined.isnull().sum()\n",
    "\n",
    "#sorted = combined.set_index('REGION').sort_values(['REGION', 'HAPPINESS SCORE'])\n",
    "#sns.heatmap(sorted.isnull(), cbar=False)\n",
    "#plt.show()\n",
    "\n",
    "#pivot_table = combined.pivot_table(index='REGION', values='HAPPINESS SCORE', margins=True)"
   ]
  },
  {
   "cell_type": "code",
   "execution_count": 8,
   "metadata": {},
   "outputs": [
    {
     "data": {
      "text/plain": [
       "False    11398\n",
       "True       154\n",
       "Name: count, dtype: int64"
      ]
     },
     "execution_count": 8,
     "metadata": {},
     "output_type": "execute_result"
    }
   ],
   "source": [
    "df.duplicated().value_counts()"
   ]
  },
  {
   "cell_type": "code",
   "execution_count": 9,
   "metadata": {},
   "outputs": [
    {
     "data": {
      "text/plain": [
       "False    11398\n",
       "True       154\n",
       "Name: count, dtype: int64"
      ]
     },
     "execution_count": 9,
     "metadata": {},
     "output_type": "execute_result"
    }
   ],
   "source": [
    "df.duplicated(subset=\"Respondent\").value_counts()"
   ]
  },
  {
   "cell_type": "markdown",
   "metadata": {},
   "source": [
    "## Removing duplicates\n"
   ]
  },
  {
   "cell_type": "markdown",
   "metadata": {},
   "source": [
    "Remove the duplicate rows from the dataframe.\n"
   ]
  },
  {
   "cell_type": "code",
   "execution_count": 10,
   "metadata": {},
   "outputs": [],
   "source": [
    "df.drop_duplicates(inplace=True) #To keep the last duplicate row, set the keep parameter to 'last'"
   ]
  },
  {
   "cell_type": "markdown",
   "metadata": {},
   "source": [
    "Verify if duplicates were actually dropped.\n"
   ]
  },
  {
   "cell_type": "code",
   "execution_count": 11,
   "metadata": {},
   "outputs": [
    {
     "data": {
      "text/plain": [
       "False    11398\n",
       "Name: count, dtype: int64"
      ]
     },
     "execution_count": 11,
     "metadata": {},
     "output_type": "execute_result"
    }
   ],
   "source": [
    "df.duplicated().value_counts()"
   ]
  },
  {
   "cell_type": "markdown",
   "metadata": {},
   "source": [
    "## Finding Missing values\n"
   ]
  },
  {
   "cell_type": "markdown",
   "metadata": {},
   "source": [
    "Find the missing values for all columns.\n"
   ]
  },
  {
   "cell_type": "code",
   "execution_count": 15,
   "metadata": {},
   "outputs": [
    {
     "data": {
      "image/png": "[encoded data removed]",
      "text/plain": [
       "<Figure size 640x480 with 1 Axes>"
      ]
     },
     "metadata": {},
     "output_type": "display_data"
    }
   ],
   "source": [
    "import seaborn as sns\n",
    "import matplotlib.pyplot as plt\n",
    "\n",
    "#combined_updated = combined.set_index('YEAR')\n",
    "sns.heatmap(df.isnull(), cbar=False)\n",
    "plt.show()"
   ]
  },
  {
   "cell_type": "code",
   "execution_count": 13,
   "metadata": {},
   "outputs": [
    {
     "data": {
      "text/plain": [
       "BlockchainIs              2610\n",
       "CodeRevHrs                2426\n",
       "BlockchainOrg             2322\n",
       "MiscTechWorkedWith        2182\n",
       "SONewContent              1965\n",
       "SOHowMuchTime             1917\n",
       "WebFrameDesireNextYear    1617\n",
       "MiscTechDesireNextYear    1455\n",
       "WebFrameWorkedWith        1393\n",
       "SOPartFreq                1128\n",
       "DatabaseDesireNextYear    1042\n",
       "ConvertedComp              816\n",
       "CompTotal                  809\n",
       "UndergradMajor             737\n",
       "Ethnicity                  675\n",
       "PlatformDesireNextYear     544\n",
       "Sexuality                  542\n",
       "ScreenName                 507\n",
       "MgrMoney                   497\n",
       "MgrIdiot                   493\n",
       "MgrWant                    493\n",
       "DatabaseWorkedWith         453\n",
       "LastInt                    413\n",
       "PlatformWorkedWith         411\n",
       "SOVisit1st                 325\n",
       "SocialMedia                293\n",
       "Age                        287\n",
       "CompFreq                   206\n",
       "PurchaseHow                196\n",
       "WorkChallenge              164\n",
       "EduOther                   164\n",
       "Dependents                 140\n",
       "LanguageDesireNextYear     134\n",
       "Trans                      123\n",
       "WorkWeekHrs                122\n",
       "WorkPlan                   121\n",
       "EdLevel                    112\n",
       "BetterLife                  98\n",
       "OrgSize                     96\n",
       "WelcomeChange               85\n",
       "Containers                  82\n",
       "OpenSource                  81\n",
       "Gender                      73\n",
       "DevType                     65\n",
       "Student                     51\n",
       "SOTimeSaved                 50\n",
       "ResumeUpdate                39\n",
       "OffOn                       38\n",
       "PurchaseWhat                38\n",
       "FizzBuzz                    37\n",
       "ITperson                    35\n",
       "OpSys                       34\n",
       "WorkLoc                     32\n",
       "UnitTests                   29\n",
       "DevEnviron                  29\n",
       "Extraversion                20\n",
       "SurveyLength                19\n",
       "YearsCodePro                16\n",
       "SurveyEase                  14\n",
       "Age1stCode                  13\n",
       "LanguageWorkedWith          11\n",
       "YearsCode                    9\n",
       "WorkRemote                   8\n",
       "SOJobs                       6\n",
       "ImpSyn                       5\n",
       "EntTeams                     5\n",
       "SOVisitFreq                  5\n",
       "SOFindAnswer                 3\n",
       "JobFactors                   3\n",
       "SOVisitTo                    1\n",
       "SOAccount                    1\n",
       "JobSat                       1\n",
       "CodeRev                      1\n",
       "CurrencyDesc                 0\n",
       "Hobbyist                     0\n",
       "OpenSourcer                  0\n",
       "Employment                   0\n",
       "Country                      0\n",
       "SOComm                       0\n",
       "CareerSat                    0\n",
       "JobSeek                      0\n",
       "MainBranch                   0\n",
       "LastHireDate                 0\n",
       "CurrencySymbol               0\n",
       "Respondent                   0\n",
       "dtype: int64"
      ]
     },
     "execution_count": 13,
     "metadata": {},
     "output_type": "execute_result"
    }
   ],
   "source": [
    "pd.options.display.max_rows = None\n",
    "df.isnull().sum().sort_values(ascending=False)"
   ]
  },
  {
   "cell_type": "markdown",
   "metadata": {},
   "source": [
    "Find out how many rows are missing in the column 'WorkLoc'\n"
   ]
  },
  {
   "cell_type": "code",
   "execution_count": 16,
   "metadata": {},
   "outputs": [
    {
     "data": {
      "text/plain": [
       "32"
      ]
     },
     "execution_count": 16,
     "metadata": {},
     "output_type": "execute_result"
    }
   ],
   "source": [
    "df[\"WorkLoc\"].isnull().sum()"
   ]
  },
  {
   "cell_type": "markdown",
   "metadata": {},
   "source": [
    "## Imputing missing values\n"
   ]
  },
  {
   "cell_type": "markdown",
   "metadata": {},
   "source": [
    "Find the  value counts for the column WorkLoc.\n"
   ]
  },
  {
   "cell_type": "code",
   "execution_count": 17,
   "metadata": {},
   "outputs": [
    {
     "data": {
      "text/plain": [
       "WorkLoc\n",
       "Office                                            6806\n",
       "Home                                              3589\n",
       "Other place, such as a coworking space or cafe     971\n",
       "NaN                                                 32\n",
       "Name: count, dtype: int64"
      ]
     },
     "execution_count": 17,
     "metadata": {},
     "output_type": "execute_result"
    }
   ],
   "source": [
    "df[\"WorkLoc\"].value_counts(dropna=False)"
   ]
  },
  {
   "cell_type": "markdown",
   "metadata": {},
   "source": [
    "Identify the value that is most frequent (majority) in the WorkLoc column.\n"
   ]
  },
  {
   "cell_type": "code",
   "execution_count": 18,
   "metadata": {},
   "outputs": [
    {
     "data": {
      "text/plain": [
       "'Office'"
      ]
     },
     "execution_count": 18,
     "metadata": {},
     "output_type": "execute_result"
    }
   ],
   "source": [
    "common_work_loc = df[\"WorkLoc\"].value_counts().idxmax()\n",
    "common_work_loc"
   ]
  },
  {
   "cell_type": "markdown",
   "metadata": {},
   "source": [
    "Impute (replace) all the empty rows in the column WorkLoc with the value that you have identified as majority.\n"
   ]
  },
  {
   "cell_type": "code",
   "execution_count": 19,
   "metadata": {},
   "outputs": [
    {
     "data": {
      "text/plain": [
       "WorkLoc\n",
       "Office                                            6838\n",
       "Home                                              3589\n",
       "Other place, such as a coworking space or cafe     971\n",
       "Name: count, dtype: int64"
      ]
     },
     "execution_count": 19,
     "metadata": {},
     "output_type": "execute_result"
    }
   ],
   "source": [
    "df[\"WorkLoc\"].replace(\"\",np.nan,inplace=True)\n",
    "df[\"WorkLoc\"].replace(np.nan,common_work_loc,inplace=True)\n",
    "df[\"WorkLoc\"].value_counts()"
   ]
  },
  {
   "cell_type": "markdown",
   "metadata": {},
   "source": [
    "After imputation there should ideally not be any empty rows in the WorkLoc column.\n"
   ]
  },
  {
   "cell_type": "markdown",
   "metadata": {},
   "source": [
    "Verify if imputing was successful.\n"
   ]
  },
  {
   "cell_type": "code",
   "execution_count": 20,
   "metadata": {},
   "outputs": [
    {
     "data": {
      "text/plain": [
       "0"
      ]
     },
     "execution_count": 20,
     "metadata": {},
     "output_type": "execute_result"
    }
   ],
   "source": [
    "df[\"WorkLoc\"].isnull().sum()"
   ]
  },
  {
   "cell_type": "code",
   "execution_count": 21,
   "metadata": {},
   "outputs": [
    {
     "data": {
      "text/plain": [
       "0"
      ]
     },
     "execution_count": 21,
     "metadata": {},
     "output_type": "execute_result"
    }
   ],
   "source": [
    "df[\"EdLevel\"].isnull().sum()\n",
    "df[\"Country\"].isnull().sum()"
   ]
  },
  {
   "cell_type": "code",
   "execution_count": 22,
   "metadata": {},
   "outputs": [
    {
     "data": {
      "text/plain": [
       "'Employed full-time'"
      ]
     },
     "execution_count": 22,
     "metadata": {},
     "output_type": "execute_result"
    }
   ],
   "source": [
    "common_empl = df[\"Employment\"].value_counts().idxmax()\n",
    "common_empl"
   ]
  },
  {
   "cell_type": "code",
   "execution_count": 23,
   "metadata": {},
   "outputs": [
    {
     "data": {
      "text/plain": [
       "'A health science (ex. nursing, pharmacy, radiology)'"
      ]
     },
     "execution_count": 23,
     "metadata": {},
     "output_type": "execute_result"
    }
   ],
   "source": [
    "lst_common_ugmajor = df[\"UndergradMajor\"].value_counts().idxmin()\n",
    "lst_common_ugmajor"
   ]
  },
  {
   "cell_type": "markdown",
   "metadata": {},
   "source": [
    "## Normalizing data\n"
   ]
  },
  {
   "cell_type": "markdown",
   "metadata": {},
   "source": [
    "There are two columns in the dataset that talk about compensation.\n",
    "\n",
    "One is \"CompFreq\". This column shows how often a developer is paid (Yearly, Monthly, Weekly).\n",
    "\n",
    "The other is \"CompTotal\". This column talks about how much the developer is paid per Year, Month, or Week depending upon his/her \"CompFreq\". \n",
    "\n",
    "This makes it difficult to compare the total compensation of the developers.\n",
    "\n",
    "In this section you will create a new column called 'NormalizedAnnualCompensation' which contains the 'Annual Compensation' irrespective of the 'CompFreq'.\n",
    "\n",
    "Once this column is ready, it makes comparison of salaries easy.\n"
   ]
  },
  {
   "cell_type": "markdown",
   "metadata": {},
   "source": [
    "<hr>\n"
   ]
  },
  {
   "cell_type": "markdown",
   "metadata": {},
   "source": [
    "List out the various categories in the column 'CompFreq'\n"
   ]
  },
  {
   "cell_type": "code",
   "execution_count": 24,
   "metadata": {},
   "outputs": [
    {
     "name": "stdout",
     "output_type": "stream",
     "text": [
      "CompFreq\n",
      "Yearly     6073\n",
      "Monthly    4788\n",
      "Weekly      331\n",
      "NaN         206\n",
      "Name: count, dtype: int64\n"
     ]
    },
    {
     "data": {
      "text/plain": [
       "array(['Yearly', 'Monthly', 'Weekly', nan], dtype=object)"
      ]
     },
     "execution_count": 24,
     "metadata": {},
     "output_type": "execute_result"
    }
   ],
   "source": [
    "print(df[\"CompFreq\"].value_counts(dropna=False))\n",
    "df[\"CompFreq\"].unique()"
   ]
  },
  {
   "cell_type": "markdown",
   "metadata": {},
   "source": [
    "Create a new column named 'NormalizedAnnualCompensation'. Use the hint given below if needed.\n"
   ]
  },
  {
   "cell_type": "markdown",
   "metadata": {},
   "source": [
    "Double click to see the **Hint**.\n",
    "\n",
    "<!--\n",
    "\n",
    "Use the below logic to arrive at the values for the column NormalizedAnnualCompensation.\n",
    "\n",
    "If the CompFreq is Yearly then use the exising value in CompTotal\n",
    "If the CompFreq is Monthly then multiply the value in CompTotal with 12 (months in an year)\n",
    "If the CompFreq is Weekly then multiply the value in CompTotal with 52 (weeks in an year)\n",
    "\n",
    "-->\n"
   ]
  },
  {
   "cell_type": "code",
   "execution_count": 25,
   "metadata": {},
   "outputs": [
    {
     "data": {
      "text/plain": [
       "100000.0"
      ]
     },
     "execution_count": 25,
     "metadata": {},
     "output_type": "execute_result"
    }
   ],
   "source": [
    "df1=df.copy()\n",
    "df1.loc[df['CompFreq'] == 'Yearly', 'NormalizedAnnualCompensation'] = df1['CompTotal']\n",
    "df1.loc[df['CompFreq'] == 'Monthly', 'NormalizedAnnualCompensation'] = df1['CompTotal'] * 12\n",
    "df1.loc[df['CompFreq'] == 'Weekly', 'NormalizedAnnualCompensation'] = df1['CompTotal'] * 52\n",
    "df1[\"NormalizedAnnualCompensation\"].median()"
   ]
  },
  {
   "cell_type": "code",
   "execution_count": 26,
   "metadata": {},
   "outputs": [
    {
     "data": {
      "text/plain": [
       "100000.0"
      ]
     },
     "execution_count": 26,
     "metadata": {},
     "output_type": "execute_result"
    }
   ],
   "source": [
    "df[\"NormalizedAnnualCompensation\"] = df1[\"NormalizedAnnualCompensation\"]\n",
    "df[\"NormalizedAnnualCompensation\"].median()"
   ]
  },
  {
   "cell_type": "code",
   "execution_count": 27,
   "metadata": {},
   "outputs": [
    {
     "data": {
      "image/png": "[encoded data removed]",
      "text/plain": [
       "<Figure size 640x480 with 1 Axes>"
      ]
     },
     "metadata": {},
     "output_type": "display_data"
    }
   ],
   "source": [
    "import matplotlib.pyplot as plt\n",
    "\n",
    "plt.hist(df[\"NormalizedAnnualCompensation\"])\n",
    "plt.show()"
   ]
  },
  {
   "cell_type": "code",
   "execution_count": 28,
   "metadata": {},
   "outputs": [
    {
     "name": "stdout",
     "output_type": "stream",
     "text": [
      "<class 'pandas.core.frame.DataFrame'>\n",
      "Index: 11398 entries, 0 to 11551\n",
      "Data columns (total 86 columns):\n",
      " #   Column                        Non-Null Count  Dtype  \n",
      "---  ------                        --------------  -----  \n",
      " 0   Respondent                    11398 non-null  int64  \n",
      " 1   MainBranch                    11398 non-null  object \n",
      " 2   Hobbyist                      11398 non-null  object \n",
      " 3   OpenSourcer                   11398 non-null  object \n",
      " 4   OpenSource                    11317 non-null  object \n",
      " 5   Employment                    11398 non-null  object \n",
      " 6   Country                       11398 non-null  object \n",
      " 7   Student                       11347 non-null  object \n",
      " 8   EdLevel                       11286 non-null  object \n",
      " 9   UndergradMajor                10661 non-null  object \n",
      " 10  EduOther                      11234 non-null  object \n",
      " 11  OrgSize                       11302 non-null  object \n",
      " 12  DevType                       11333 non-null  object \n",
      " 13  YearsCode                     11389 non-null  object \n",
      " 14  Age1stCode                    11385 non-null  object \n",
      " 15  YearsCodePro                  11382 non-null  object \n",
      " 16  CareerSat                     11398 non-null  object \n",
      " 17  JobSat                        11397 non-null  object \n",
      " 18  MgrIdiot                      10905 non-null  object \n",
      " 19  MgrMoney                      10901 non-null  object \n",
      " 20  MgrWant                       10905 non-null  object \n",
      " 21  JobSeek                       11398 non-null  object \n",
      " 22  LastHireDate                  11398 non-null  object \n",
      " 23  LastInt                       10985 non-null  object \n",
      " 24  FizzBuzz                      11361 non-null  object \n",
      " 25  JobFactors                    11395 non-null  object \n",
      " 26  ResumeUpdate                  11359 non-null  object \n",
      " 27  CurrencySymbol                11398 non-null  object \n",
      " 28  CurrencyDesc                  11398 non-null  object \n",
      " 29  CompTotal                     10589 non-null  float64\n",
      " 30  CompFreq                      11192 non-null  object \n",
      " 31  ConvertedComp                 10582 non-null  float64\n",
      " 32  WorkWeekHrs                   11276 non-null  float64\n",
      " 33  WorkPlan                      11277 non-null  object \n",
      " 34  WorkChallenge                 11234 non-null  object \n",
      " 35  WorkRemote                    11390 non-null  object \n",
      " 36  WorkLoc                       11398 non-null  object \n",
      " 37  ImpSyn                        11393 non-null  object \n",
      " 38  CodeRev                       11397 non-null  object \n",
      " 39  CodeRevHrs                    8972 non-null   float64\n",
      " 40  UnitTests                     11369 non-null  object \n",
      " 41  PurchaseHow                   11202 non-null  object \n",
      " 42  PurchaseWhat                  11360 non-null  object \n",
      " 43  LanguageWorkedWith            11387 non-null  object \n",
      " 44  LanguageDesireNextYear        11264 non-null  object \n",
      " 45  DatabaseWorkedWith            10945 non-null  object \n",
      " 46  DatabaseDesireNextYear        10356 non-null  object \n",
      " 47  PlatformWorkedWith            10987 non-null  object \n",
      " 48  PlatformDesireNextYear        10854 non-null  object \n",
      " 49  WebFrameWorkedWith            10005 non-null  object \n",
      " 50  WebFrameDesireNextYear        9781 non-null   object \n",
      " 51  MiscTechWorkedWith            9216 non-null   object \n",
      " 52  MiscTechDesireNextYear        9943 non-null   object \n",
      " 53  DevEnviron                    11369 non-null  object \n",
      " 54  OpSys                         11364 non-null  object \n",
      " 55  Containers                    11316 non-null  object \n",
      " 56  BlockchainOrg                 9076 non-null   object \n",
      " 57  BlockchainIs                  8788 non-null   object \n",
      " 58  BetterLife                    11300 non-null  object \n",
      " 59  ITperson                      11363 non-null  object \n",
      " 60  OffOn                         11360 non-null  object \n",
      " 61  SocialMedia                   11105 non-null  object \n",
      " 62  Extraversion                  11378 non-null  object \n",
      " 63  ScreenName                    10891 non-null  object \n",
      " 64  SOVisit1st                    11073 non-null  object \n",
      " 65  SOVisitFreq                   11393 non-null  object \n",
      " 66  SOVisitTo                     11397 non-null  object \n",
      " 67  SOFindAnswer                  11395 non-null  object \n",
      " 68  SOTimeSaved                   11348 non-null  object \n",
      " 69  SOHowMuchTime                 9481 non-null   object \n",
      " 70  SOAccount                     11397 non-null  object \n",
      " 71  SOPartFreq                    10270 non-null  object \n",
      " 72  SOJobs                        11392 non-null  object \n",
      " 73  EntTeams                      11393 non-null  object \n",
      " 74  SOComm                        11398 non-null  object \n",
      " 75  WelcomeChange                 11313 non-null  object \n",
      " 76  SONewContent                  9433 non-null   object \n",
      " 77  Age                           11111 non-null  float64\n",
      " 78  Gender                        11325 non-null  object \n",
      " 79  Trans                         11275 non-null  object \n",
      " 80  Sexuality                     10856 non-null  object \n",
      " 81  Ethnicity                     10723 non-null  object \n",
      " 82  Dependents                    11258 non-null  object \n",
      " 83  SurveyLength                  11379 non-null  object \n",
      " 84  SurveyEase                    11384 non-null  object \n",
      " 85  NormalizedAnnualCompensation  10583 non-null  float64\n",
      "dtypes: float64(6), int64(1), object(79)\n",
      "memory usage: 7.8+ MB\n"
     ]
    }
   ],
   "source": [
    "df.info()"
   ]
  },
  {
   "cell_type": "markdown",
   "metadata": {},
   "source": [
    "## Authors\n"
   ]
  },
  {
   "cell_type": "markdown",
   "metadata": {},
   "source": [
    "Ramesh Sannareddy\n"
   ]
  },
  {
   "cell_type": "markdown",
   "metadata": {},
   "source": [
    "### Other Contributors\n"
   ]
  },
  {
   "cell_type": "markdown",
   "metadata": {},
   "source": [
    "Rav Ahuja\n"
   ]
  },
  {
   "cell_type": "markdown",
   "metadata": {},
   "source": [
    "## Change Log\n"
   ]
  },
  {
   "cell_type": "markdown",
   "metadata": {},
   "source": [
    "| Date (YYYY-MM-DD) | Version | Changed By        | Change Description                 |\n",
    "| ----------------- | ------- | ----------------- | ---------------------------------- |\n",
    "| 2020-10-17        | 0.1     | Ramesh Sannareddy | Created initial version of the lab |\n"
   ]
  },
  {
   "cell_type": "markdown",
   "metadata": {},
   "source": [
    " Copyright © 2020 IBM Corporation. This notebook and its source code are released under the terms of the [MIT License](https://cognitiveclass.ai/mit-license?utm_medium=Exinfluencer&utm_source=Exinfluencer&utm_content=000026UJ&utm_term=10006555&utm_id=NA-SkillsNetwork-Channel-SkillsNetworkCoursesIBMDA0321ENSkillsNetwork928-2022-01-01&cm_mmc=Email_Newsletter-_-Developer_Ed%2BTech-_-WW_WW-_-SkillsNetwork-Courses-IBM-DA0321EN-SkillsNetwork-21426264&cm_mmca1=000026UJ&cm_mmca2=10006555&cm_mmca3=M12345678&cvosrc=email.Newsletter.M12345678&cvo_campaign=000026UJ).\n"
   ]
  }
 ],
 "metadata": {
  "kernelspec": {
   "display_name": "Python 3 (ipykernel)",
   "language": "python",
   "name": "python3"
  },
  "language_info": {
   "codemirror_mode": {
    "name": "ipython",
    "version": 3
   },
   "file_extension": ".py",
   "mimetype": "text/x-python",
   "name": "python",
   "nbconvert_exporter": "python",
   "pygments_lexer": "ipython3",
   "version": "3.11.5"
  }
 },
 "nbformat": 4,
 "nbformat_minor": 4
}
